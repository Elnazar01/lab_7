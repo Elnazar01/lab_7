{
 "cells": [
  {
   "cell_type": "code",
   "execution_count": 2,
   "id": "f0ce0086-61e1-442d-9d81-1dbf8189acd7",
   "metadata": {},
   "outputs": [
    {
     "name": "stdout",
     "output_type": "stream",
     "text": [
      "pygame 2.6.1 (SDL 2.28.4, Python 3.12.7)\n",
      "Hello from the pygame community. https://www.pygame.org/contribute.html\n"
     ]
    }
   ],
   "source": [
    "import pygame\n",
    "\n",
    "pygame.init()\n",
    "\n",
    "WIDTH, HEIGHT = 500, 500  \n",
    "BALL_RADIUS = 25\n",
    "BALL_COLOR = (255, 0, 0)  \n",
    "BG_COLOR = (255, 255, 255)  \n",
    "STEP = 20  \n",
    "\n",
    "screen = pygame.display.set_mode((WIDTH, HEIGHT))\n",
    "pygame.display.set_caption(\"Moving Ball\")\n",
    "\n",
    "x, y = WIDTH // 2, HEIGHT // 2\n",
    "\n",
    "running = True\n",
    "while running:\n",
    "    pygame.time.delay(50)  \n",
    "    \n",
    "    for event in pygame.event.get():\n",
    "        if event.type == pygame.QUIT:\n",
    "            running = False\n",
    "    \n",
    "    keys = pygame.key.get_pressed()\n",
    "    \n",
    "    if keys[pygame.K_LEFT] and x - BALL_RADIUS - STEP >= 0:\n",
    "        x -= STEP\n",
    "    if keys[pygame.K_RIGHT] and x + BALL_RADIUS + STEP <= WIDTH:\n",
    "        x += STEP\n",
    "    if keys[pygame.K_UP] and y - BALL_RADIUS - STEP >= 0:\n",
    "        y -= STEP\n",
    "    if keys[pygame.K_DOWN] and y + BALL_RADIUS + STEP <= HEIGHT:\n",
    "        y += STEP\n",
    "    \n",
    "    screen.fill(BG_COLOR)\n",
    "    pygame.draw.circle(screen, BALL_COLOR, (x, y), BALL_RADIUS)\n",
    "    pygame.display.update()\n",
    "    \n",
    "pygame.quit()\n"
   ]
  }
 ],
 "metadata": {
  "kernelspec": {
   "display_name": "Python [conda env:base] *",
   "language": "python",
   "name": "conda-base-py"
  },
  "language_info": {
   "codemirror_mode": {
    "name": "ipython",
    "version": 3
   },
   "file_extension": ".py",
   "mimetype": "text/x-python",
   "name": "python",
   "nbconvert_exporter": "python",
   "pygments_lexer": "ipython3",
   "version": "3.12.7"
  }
 },
 "nbformat": 4,
 "nbformat_minor": 5
}
