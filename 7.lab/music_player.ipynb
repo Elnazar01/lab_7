{
 "cells": [
  {
   "cell_type": "code",
   "execution_count": null,
   "id": "c5c5ff85-35d4-4366-90d7-51a4dafa83fe",
   "metadata": {},
   "outputs": [],
   "source": [
    "import pygame\n",
    "\n",
    "pygame.mixer.init()\n",
    "pygame.init()\n",
    "\n",
    "playlist = [\"music/men_qazaqpyn.mp3\", \"music/menace.mp3\", \"music/zymyran.mp3\"]\n",
    "current_track = 0\n",
    "playing = False\n",
    "\n",
    "def load_music(index):\n",
    "    pygame.mixer.music.load(playlist[index])\n",
    "    pygame.mixer.music.play()\n",
    "\n",
    "def play_pause():\n",
    "    global playing\n",
    "    if pygame.mixer.music.get_busy():\n",
    "        pygame.mixer.music.pause()\n",
    "        playing = False\n",
    "    else:\n",
    "        pygame.mixer.music.unpause()\n",
    "        playing = True\n",
    "\n",
    "def stop():\n",
    "    pygame.mixer.music.stop()\n",
    "\n",
    "def next_track():\n",
    "    global current_track\n",
    "    current_track = (current_track + 1) % len(playlist)\n",
    "    load_music(current_track)\n",
    "\n",
    "def previous_track():\n",
    "    global current_track\n",
    "    current_track = (current_track - 1) % len(playlist)\n",
    "    load_music(current_track)\n",
    "\n",
    "load_music(current_track)\n",
    "\n",
    "running = True\n",
    "while running:\n",
    "    for event in pygame.event.get():\n",
    "        if event.type == pygame.QUIT:\n",
    "            running = False\n",
    "        elif event.type == pygame.KEYDOWN:\n",
    "            if event.key == pygame.K_SPACE:\n",
    "                play_pause()\n",
    "            elif event.key == pygame.K_s:\n",
    "                stop()\n",
    "            elif event.key == pygame.K_RIGHT:\n",
    "                next_track()\n",
    "            elif event.key == pygame.K_LEFT:\n",
    "                previous_track()\n",
    "\n",
    "pygame.quit()\n"
   ]
  }
 ],
 "metadata": {
  "kernelspec": {
   "display_name": "Python [conda env:base] *",
   "language": "python",
   "name": "conda-base-py"
  },
  "language_info": {
   "codemirror_mode": {
    "name": "ipython",
    "version": 3
   },
   "file_extension": ".py",
   "mimetype": "text/x-python",
   "name": "python",
   "nbconvert_exporter": "python",
   "pygments_lexer": "ipython3",
   "version": "3.12.7"
  }
 },
 "nbformat": 4,
 "nbformat_minor": 5
}
