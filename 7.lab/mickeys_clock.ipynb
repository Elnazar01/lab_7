{
 "cells": [
  {
   "cell_type": "code",
   "execution_count": 4,
   "id": "74303209-3f60-43be-9f70-944abf0c7e34",
   "metadata": {},
   "outputs": [
    {
     "ename": "SystemExit",
     "evalue": "",
     "output_type": "error",
     "traceback": [
      "An exception has occurred, use %tb to see the full traceback.\n",
      "\u001b[0;31mSystemExit\u001b[0m\n"
     ]
    }
   ],
   "source": [
    "import pygame\n",
    "import sys\n",
    "from datetime import datetime\n",
    "\n",
    "pygame.init()\n",
    "\n",
    "WIDTH, HEIGHT = 800, 800\n",
    "screen = pygame.display.set_mode((WIDTH, HEIGHT))\n",
    "pygame.display.set_caption(\"Часы с Микки Маусом\")\n",
    "\n",
    "mickey_body = pygame.image.load('mickeyWithoutArms.png').convert_alpha()\n",
    "right_hand = pygame.image.load('rightarm.png').convert_alpha()  \n",
    "left_hand = pygame.image.load('leftarm.png').convert_alpha()   \n",
    "\n",
    "pivot = (WIDTH // 2, HEIGHT // 2)\n",
    "\n",
    "def rot_center(image, angle, pivot):\n",
    "    rotated_image = pygame.transform.rotate(image, angle)\n",
    "    rotated_rect = rotated_image.get_rect(center=pivot)\n",
    "    return rotated_image, rotated_rect\n",
    "\n",
    "running = True\n",
    "clock = pygame.time.Clock()\n",
    "\n",
    "while running:\n",
    "    for event in pygame.event.get():\n",
    "        if event.type == pygame.QUIT:\n",
    "            running = False\n",
    "\n",
    "    now = datetime.now()\n",
    "    minute = now.minute\n",
    "    second = now.second\n",
    "\n",
    "    minute_angle = -minute * 6  \n",
    "    second_angle = -second * 6  \n",
    "\n",
    "    rotated_right_hand, right_hand_rect = rot_center(right_hand, minute_angle, pivot)\n",
    "    rotated_left_hand, left_hand_rect = rot_center(left_hand, second_angle, pivot)\n",
    "\n",
    "    screen.fill((255, 255, 255))\n",
    "\n",
    "    screen.blit(mickey_body, mickey_body.get_rect(center=pivot))\n",
    "    screen.blit(rotated_right_hand, right_hand_rect.topleft)\n",
    "    screen.blit(rotated_left_hand, left_hand_rect.topleft)\n",
    "\n",
    "    pygame.display.flip()\n",
    "    clock.tick(60)\n",
    "\n",
    "pygame.quit()\n",
    "sys.exit()\n"
   ]
  }
 ],
 "metadata": {
  "kernelspec": {
   "display_name": "Python [conda env:base] *",
   "language": "python",
   "name": "conda-base-py"
  },
  "language_info": {
   "codemirror_mode": {
    "name": "ipython",
    "version": 3
   },
   "file_extension": ".py",
   "mimetype": "text/x-python",
   "name": "python",
   "nbconvert_exporter": "python",
   "pygments_lexer": "ipython3",
   "version": "3.12.7"
  }
 },
 "nbformat": 4,
 "nbformat_minor": 5
}
